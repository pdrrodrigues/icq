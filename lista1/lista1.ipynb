{
 "cells": [
  {
   "cell_type": "markdown",
   "metadata": {},
   "source": [
    "Exercício 1"
   ]
  },
  {
   "cell_type": "code",
   "execution_count": 5,
   "metadata": {},
   "outputs": [
    {
     "name": "stdout",
     "output_type": "stream",
     "text": [
      "Para qualquer valor de x\n",
      "pertencendo aos reais, f(x) é positivo, teste:\n",
      "\n",
      "Resultado: f(-10.0) = 10201.0\n"
     ]
    }
   ],
   "source": [
    "f = lambda x: x**4 + 2 * x**2 + 1\n",
    "\n",
    "print(\"Para qualquer valor de x\\n\" + \\\n",
    "\"pertencendo aos reais, f(x) é positivo, teste:\\n\")\n",
    "x = float(input(\"Insira um valor de x: \"))\n",
    "print(f\"Resultado: f({x}) = {f(x)}\")\n"
   ]
  },
  {
   "cell_type": "markdown",
   "metadata": {},
   "source": [
    "Exercício 2"
   ]
  },
  {
   "cell_type": "code",
   "execution_count": 8,
   "metadata": {},
   "outputs": [
    {
     "name": "stdout",
     "output_type": "stream",
     "text": [
      "i ** 15 = -i\n"
     ]
    }
   ],
   "source": [
    "expo = int(input(\"Insira o expoente desejado para i: \"))\n",
    "\n",
    "if expo % 4 == 0: \n",
    "    print(f\"i ** {expo} = 1\")\n",
    "elif expo % 4 == 1: \n",
    "    print(f\"i ** {expo} = i\")\n",
    "elif expo % 4 == 2: \n",
    "    print(f\"i ** {expo} = -1\")\n",
    "else: \n",
    "    print(f\"i ** {expo} = -i\")\n"
   ]
  },
  {
   "cell_type": "markdown",
   "metadata": {},
   "source": [
    "Exercício 3"
   ]
  },
  {
   "cell_type": "code",
   "execution_count": 9,
   "metadata": {},
   "outputs": [
    {
     "name": "stdout",
     "output_type": "stream",
     "text": [
      "(3-1j) + (1+4j) = (4+3j)\n",
      "(3-1j) * (1+4j) = (7+11j)\n"
     ]
    }
   ],
   "source": [
    "c1 = 3-1j\n",
    "c2 = 1+4j\n",
    "\n",
    "print(f\"{c1} + {c2} = {c1+c2}\")\n",
    "print(f\"{c1} * {c2} = {c1 * c2}\")\n"
   ]
  },
  {
   "cell_type": "markdown",
   "metadata": {},
   "source": [
    "Exercício 4"
   ]
  },
  {
   "cell_type": "code",
   "execution_count": 10,
   "metadata": {},
   "outputs": [
    {
     "name": "stdout",
     "output_type": "stream",
     "text": [
      "Substituindo (-1+1j) em f(x) = x^2 + 2x + 2, obtem f((-1+1j)) = 0j\n"
     ]
    }
   ],
   "source": [
    "f = lambda x: x ** 2 + 2 * x + 2\n",
    "\n",
    "c = -1+1j\n",
    "\n",
    "print(f\"Substituindo {c} em f(x) = x^2 + 2x + 2, obtem f({c}) = {f(c)}\")"
   ]
  },
  {
   "cell_type": "markdown",
   "metadata": {},
   "source": [
    "Exercício 5"
   ]
  },
  {
   "cell_type": "code",
   "execution_count": 11,
   "metadata": {},
   "outputs": [
    {
     "name": "stdout",
     "output_type": "stream",
     "text": [
      "Comutividade\n",
      "\n",
      "(1+1j) + (-1+2j) = 3j = (-1+2j) + (1+1j)\n",
      "\n",
      "(1+1j) * (-1+2j) = (-3+1j) = (-1+2j) * (1+1j)\n",
      "\n",
      "\n",
      "Associatividade\n",
      "\n",
      "((1+1j) + (-1+2j)) + (1-1j) = (1+2j) = (1+1j) + ((-1+2j) + (1-1j))\n",
      "\n",
      "((1+1j) * (-1+2j)) * (1-1j) = (-2+4j) = (1+1j) * ((-1+2j) * (1-1j))\n",
      "\n",
      "\n",
      "Distributividade\n",
      "\n",
      "(1+1j) * ((-1+2j) + (1-1j)) = (-1+1j) = ((1+1j) * (-1+2j)) + ((1+1j) * (1-1j))\n"
     ]
    }
   ],
   "source": [
    "a = float(input(\"Parte real do complexo 1:\"))\n",
    "b = float(input(\"Parte imag do complexo 1:\"))\n",
    "c1 = a+b*1j\n",
    "a = float(input(\"Parte real do complexo 2:\"))\n",
    "b = float(input(\"Parte imag do complexo 2:\"))\n",
    "c2 = a+b*1j\n",
    "a = float(input(\"Parte real do complexo 3:\"))\n",
    "b = float(input(\"Parte imag do complexo 3:\"))\n",
    "c3 = a+b*1j\n",
    "\n",
    "print(\"Comutividade\\n\")\n",
    "print(f\"{c1} + {c2} = {c1 + c2} = {c2} + {c1}\\n\")\n",
    "print(f\"{c1} * {c2} = {c1 * c2} = {c2} * {c1}\\n\")\n",
    "\n",
    "print(\"\\nAssociatividade\\n\")\n",
    "print(f\"({c1} + {c2}) + {c3} = {c1+c2+c3} = {c1} + ({c2} + {c3})\\n\")\n",
    "print(f\"({c1} * {c2}) * {c3} = {c1*c2*c3} = {c1} * ({c2} * {c3})\\n\")\n",
    "\n",
    "print(\"\\nDistributividade\\n\")\n",
    "print(f\"{c1} * ({c2} + {c3}) = {c1*(c2+c3)} = ({c1} * {c2}) + ({c1} * {c3})\")"
   ]
  },
  {
   "cell_type": "markdown",
   "metadata": {},
   "source": [
    "Exercício 6"
   ]
  },
  {
   "cell_type": "code",
   "execution_count": 12,
   "metadata": {},
   "outputs": [
    {
     "name": "stdout",
     "output_type": "stream",
     "text": [
      "|(1+1j)| * |(-1-1j)| = 2.0 = |(1+1j) * (-1-1j)|\n",
      "|(1+1j) + (-1-1j)| = |0j| = 0.0 =< 2.8284271247461903 = |(1+1j)| + |(-1-1j)|\n"
     ]
    }
   ],
   "source": [
    "a = float(input(\"Parte real do complexo 1:\"))\n",
    "b = float(input(\"Parte imag do complexo 1:\"))\n",
    "c1 = a+b*1j\n",
    "a = float(input(\"Parte real do complexo 2:\"))\n",
    "b = float(input(\"Parte imag do complexo 2:\"))\n",
    "c2 = a+b*1j\n",
    "\n",
    "print(f\"|{c1}| * |{c2}| = {abs(c1 * c2)} = |{c1} * {c2}|\")\n",
    "print(f\"|{c1} + {c2}| = |{c1+c2}| = {abs(c1+c2)} =< {abs(c1)+abs(c2)} = |{c1}| + |{c2}|\")"
   ]
  },
  {
   "cell_type": "markdown",
   "metadata": {},
   "source": [
    "Exercício 7"
   ]
  },
  {
   "cell_type": "code",
   "execution_count": 13,
   "metadata": {},
   "outputs": [
    {
     "name": "stdout",
     "output_type": "stream",
     "text": [
      "(1-1j) + (-1+1j) = 0j = -0j\n",
      "(1-1j) * (-1+1j) = 2j = 2j\n"
     ]
    }
   ],
   "source": [
    "a = float(input(\"Parte real do complexo 1:\"))\n",
    "b = float(input(\"Parte imag do complexo 1:\"))\n",
    "c1 = a+b*1j\n",
    "a = float(input(\"Parte real do complexo 2:\"))\n",
    "b = float(input(\"Parte imag do complexo 2:\"))\n",
    "c2 = a+b*1j\n",
    "\n",
    "print(f\"{c1.conjugate()} + {c2.conjugate()} = {c1.conjugate() + c2.conjugate()} = {(c1+c2).conjugate()}\")\n",
    "print(f\"{c1.conjugate()} * {c2.conjugate()} = {c1.conjugate() * c2.conjugate()} = {(c1*c2).conjugate()}\")"
   ]
  }
 ],
 "metadata": {
  "kernelspec": {
   "display_name": "base",
   "language": "python",
   "name": "python3"
  },
  "language_info": {
   "codemirror_mode": {
    "name": "ipython",
    "version": 3
   },
   "file_extension": ".py",
   "mimetype": "text/x-python",
   "name": "python",
   "nbconvert_exporter": "python",
   "pygments_lexer": "ipython3",
   "version": "3.11.5"
  }
 },
 "nbformat": 4,
 "nbformat_minor": 2
}
